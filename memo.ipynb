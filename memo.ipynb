{
 "cells": [
  {
   "cell_type": "markdown",
   "metadata": {},
   "source": [
    "# 파일명 텍스트 추출"
   ]
  },
  {
   "cell_type": "code",
   "execution_count": 3,
   "metadata": {},
   "outputs": [
    {
     "name": "stdout",
     "output_type": "stream",
     "text": [
      "파일명이 './data/test.txt'에 성공적으로 저장되었습니다.\n"
     ]
    }
   ],
   "source": [
    "import os\n",
    "\n",
    "# 파일명 추출 대상 디렉토리 경로\n",
    "directory_path = './data/WoodScape_ICCV19/test_data/seg'\n",
    "# 저장할 텍스트 파일 경로\n",
    "output_file = './data/test.txt'\n",
    "\n",
    "def save_file_names_to_text(directory, output_path):\n",
    "    try:\n",
    "        # 디렉토리 내 파일명 목록 추출\n",
    "        file_names = os.listdir(directory)\n",
    "\n",
    "        # 텍스트 파일에 저장\n",
    "        with open(output_path, 'w') as file:\n",
    "            for name in file_names:\n",
    "                file.write(name + '\\n')\n",
    "\n",
    "        print(f\"파일명이 '{output_file}'에 성공적으로 저장되었습니다.\")\n",
    "    \n",
    "    except FileNotFoundError:\n",
    "        print(f\"지정한 디렉토리가 존재하지 않습니다: {directory}\")\n",
    "    \n",
    "    except Exception as e:\n",
    "        print(f\"오류 발생: {e}\")\n",
    "\n",
    "# 함수 실행\n",
    "save_file_names_to_text(directory_path, output_file)\n",
    "            \n"
   ]
  },
  {
   "cell_type": "code",
   "execution_count": null,
   "metadata": {},
   "outputs": [
    {
     "name": "stdout",
     "output_type": "stream",
     "text": [
      "랜덤으로 추출된 파일명이 ./val.txt에 저장되었습니다.\n"
     ]
    }
   ],
   "source": [
    "import os\n",
    "import random\n",
    "\n",
    "# 경로 설정\n",
    "directory = \"./data/WoodScape_ICCV19/train_data/seg\"\n",
    "output_file = \"./data/val.txt\"\n",
    "\n",
    "# 디렉토리 내 파일 목록 가져오기\n",
    "file_list = os.listdir(directory)\n",
    "\n",
    "# 파일 중 20% 랜덤 선택\n",
    "sample_size = int(len(file_list) * 0.2)\n",
    "random_files = random.sample(file_list, sample_size)\n",
    "\n",
    "# 결과 텍스트 파일로 저장\n",
    "with open(output_file, \"w\") as f:\n",
    "    for file_name in random_files:\n",
    "        f.write(file_name + \"\\n\")\n",
    "\n",
    "print(f\"랜덤으로 추출된 파일명이 {output_file}에 저장되었습니다.\")"
   ]
  },
  {
   "cell_type": "code",
   "execution_count": null,
   "metadata": {},
   "outputs": [],
   "source": [
    "import os\n",
    "import random\n",
    "import shutil\n",
    "\n",
    "# 디렉토리 경로 설정\n",
    "train_seg_dir = './data/WoodScape_ICCV19/train_data/seg'\n",
    "train_t1c_dir = './data/WoodScape_ICCV19/train_data/t1c'\n",
    "test_seg_dir = './test_data/seg'\n",
    "test_t1c_dir = './test_data/t1c'\n",
    "\n",
    "# 테스트 디렉토리와 하위 디렉토리 생성\n",
    "os.makedirs(test_seg_dir, exist_ok=True)\n",
    "os.makedirs(test_t1c_dir, exist_ok=True)\n",
    "\n",
    "# 파일 리스트 가져오기\n",
    "seg_files = os.listdir(train_seg_dir)\n",
    "t1c_files = os.listdir(train_t1c_dir)\n",
    "\n",
    "# 파일 이름이 동일하다는 조건을 만족하는지 확인\n",
    "assert set(seg_files) == set(t1c_files), \"seg 디렉토리와 t1c 디렉토리의 파일 이름이 같아야 합니다.\"\n",
    "\n",
    "# 랜덤하게 9946개의 파일 선택\n",
    "random_files = random.sample(seg_files, 9946)\n",
    "\n",
    "# 선택된 파일을 test_data 디렉토리로 이동\n",
    "for file_name in random_files:\n",
    "    # seg 디렉토리에서 파일 이동\n",
    "    shutil.move(os.path.join(train_seg_dir, file_name), os.path.join(test_seg_dir, file_name))\n",
    "    # t1c 디렉토리에서 파일 이동\n",
    "    shutil.move(os.path.join(train_t1c_dir, file_name), os.path.join(test_t1c_dir, file_name))\n",
    "\n",
    "print(f\"총 {len(random_files)}개의 파일이 test_data 디렉토리로 이동되었습니다.\")\n"
   ]
  }
 ],
 "metadata": {
  "kernelspec": {
   "display_name": "canlab",
   "language": "python",
   "name": "python3"
  },
  "language_info": {
   "codemirror_mode": {
    "name": "ipython",
    "version": 3
   },
   "file_extension": ".py",
   "mimetype": "text/x-python",
   "name": "python",
   "nbconvert_exporter": "python",
   "pygments_lexer": "ipython3",
   "version": "3.8.19"
  }
 },
 "nbformat": 4,
 "nbformat_minor": 2
}
